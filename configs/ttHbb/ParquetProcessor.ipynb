{
 "cells": [
  {
   "cell_type": "code",
   "execution_count": 1,
   "id": "66ddd7ea",
   "metadata": {},
   "outputs": [],
   "source": [
    "import matplotlib.pyplot as plt\n",
    "from coffea.util import load\n",
    "from pocket_coffea.utils.plot_utils import Shape\n",
    "from IPython.display import display, HTML\n",
    "import pickle\n",
    "import numpy as np\n",
    "import os\n",
    "import awkward as ak\n",
    "from omegaconf import OmegaConf\n",
    "import math\n",
    "import pyarrow as pa"
   ]
  },
  {
   "cell_type": "code",
   "execution_count": 53,
   "id": "0e886291",
   "metadata": {},
   "outputs": [],
   "source": [
    "output = ak.from_parquet(\"/eos/user/r/rmccarth/ttHbb/chunks/TTToSemiLeptonic__2018/baseline/nominal/fcd64a3c-f13f-11eb-96b7-79bce183beef_#2FEvents#3B1_0-49616.parquet\")\n",
    "output2 = ak.from_parquet(\"/eos/user/r/rmccarth/ttHbb/chunks/TTToSemiLeptonic__2018/baseline/nominal/fcd64a3c-f13f-11eb-96b7-79bce183beef_#2FEvents#3B1_49616-99232.parquet\")\n",
    "output3 = ak.from_parquet(\"merge.parquet\")"
   ]
  },
  {
   "cell_type": "code",
   "execution_count": 54,
   "id": "597462e3",
   "metadata": {},
   "outputs": [
    {
     "name": "stdout",
     "output_type": "stream",
     "text": [
      "<class 'awkward.highlevel.Array'>\n",
      "['weight_nominal', 'weight_pileupUp', 'weight_pileupDown', 'weight_sf_ele_recoUp', 'weight_sf_ele_recoDown', 'weight_sf_ele_idUp', 'weight_sf_ele_idDown', 'weight_sf_mu_idUp', 'weight_sf_mu_idDown', 'weight_sf_mu_isoUp', 'weight_sf_mu_isoDown', 'weight_sf_jet_puIdUp', 'weight_sf_jet_puIdDown', 'weight_sf_btag_hfUp', 'weight_sf_btag_hfDown', 'weight_sf_btag_lfUp', 'weight_sf_btag_lfDown', 'weight_sf_btag_hfstats1Up', 'weight_sf_btag_hfstats1Down', 'weight_sf_btag_hfstats2Up', 'weight_sf_btag_hfstats2Down', 'weight_sf_btag_lfstats1Up', 'weight_sf_btag_lfstats1Down', 'weight_sf_btag_lfstats2Up', 'weight_sf_btag_lfstats2Down', 'weight_sf_btag_cferr1Up', 'weight_sf_btag_cferr1Down', 'weight_sf_btag_cferr2Up', 'weight_sf_btag_cferr2Down', 'JetGood_eta', 'JetGood_pt', 'JetGood_phi', 'JetGood_btagDeepFlavB', 'JetGood_genJetIdx', 'FatJetGood_eta', 'FatJetGood_pt', 'FatJetGood_phi', 'FatJetGood_mass', 'FatJetGood_msoftdrop', 'FatJetGood_tau1', 'FatJetGood_tau2', 'FatJetGood_tau3', 'FatJetGood_tau4', 'FatJetGood_btagDDBvLV2', 'FatJetGood_deepTagMD_ZHbbvsQCD', 'FatJetGood_deepTagMD_ZHccvsQCD', 'FatJetGood_deepTagMD_HbbvsQCD', 'FatJetGood_deepTagMD_bbvsLight', 'FatJetGood_btagHbb', 'FatJetGood_genJetAK8Idx', 'FatJetGood_rhoQCD', 'LeptonGood_eta', 'LeptonGood_pt', 'LeptonGood_phi', 'LeptonGood_pdgId', 'MuonGood_eta', 'MuonGood_pt', 'MuonGood_phi', 'MuonGood_jetRelIso', 'MuonGood_pfRelIso03_all', 'MuonGood_miniPFRelIso_all', 'MuonGood_pfRelIso03_chg', 'MuonGood_miniPFRelIso_chg', 'MuonGood_mvaTTH', 'ElectronGood_eta', 'ElectronGood_pt', 'ElectronGood_phi', 'ElectronGood_jetRelIso', 'ElectronGood_pfRelIso03_all', 'ElectronGood_miniPFRelIso_all', 'ElectronGood_pfRelIso03_chg', 'ElectronGood_miniPFRelIso_chg', 'ElectronGood_mvaTTH', 'BJetGood_eta', 'BJetGood_pt', 'BJetGood_phi', 'BJetGood_btagDeepFlavB', 'BBFatJetGoodT_eta', 'BBFatJetGoodT_pt', 'BBFatJetGoodT_phi', 'BBFatJetGoodT_mass', 'BBFatJetGoodT_msoftdrop', 'BBFatJetGoodT_tau1', 'BBFatJetGoodT_tau2', 'BBFatJetGoodT_tau3', 'BBFatJetGoodT_tau4', 'BBFatJetGoodT_btagDDBvLV2', 'BBFatJetGoodT_deepTagMD_ZHbbvsQCD', 'BBFatJetGoodT_deepTagMD_ZHccvsQCD', 'BBFatJetGoodT_deepTagMD_HbbvsQCD', 'BBFatJetGoodT_deepTagMD_bbvsLight', 'BBFatJetGoodT_btagHbb', 'BBFatJetGoodT_rhoQCD', 'BBFatJetGoodM_eta', 'BBFatJetGoodM_pt', 'BBFatJetGoodM_phi', 'BBFatJetGoodM_mass', 'BBFatJetGoodM_msoftdrop', 'BBFatJetGoodM_tau1', 'BBFatJetGoodM_tau2', 'BBFatJetGoodM_tau3', 'BBFatJetGoodM_tau4', 'BBFatJetGoodM_btagDDBvLV2', 'BBFatJetGoodM_deepTagMD_ZHbbvsQCD', 'BBFatJetGoodM_deepTagMD_ZHccvsQCD', 'BBFatJetGoodM_deepTagMD_HbbvsQCD', 'BBFatJetGoodM_deepTagMD_bbvsLight', 'BBFatJetGoodM_btagHbb', 'BBFatJetGoodM_rhoQCD', 'BBFatJetGoodL_eta', 'BBFatJetGoodL_pt', 'BBFatJetGoodL_phi', 'BBFatJetGoodL_mass', 'BBFatJetGoodL_msoftdrop', 'BBFatJetGoodL_tau1', 'BBFatJetGoodL_tau2', 'BBFatJetGoodL_tau3', 'BBFatJetGoodL_tau4', 'BBFatJetGoodL_btagDDBvLV2', 'BBFatJetGoodL_deepTagMD_ZHbbvsQCD', 'BBFatJetGoodL_deepTagMD_ZHccvsQCD', 'BBFatJetGoodL_deepTagMD_HbbvsQCD', 'BBFatJetGoodL_deepTagMD_bbvsLight', 'BBFatJetGoodL_btagHbb', 'BBFatJetGoodL_rhoQCD', 'GenJet_eta', 'GenJet_hadronFlavour', 'GenJet_mass', 'GenJet_partonFlavour', 'GenJet_phi', 'GenJet_pt', 'GenFatJet_eta', 'GenFatJet_hadronFlavour', 'GenFatJet_mass', 'GenFatJet_partonFlavour', 'GenFatJet_phi', 'GenFatJet_pt', 'events_genTtbarId']\n",
      "94\n",
      "89\n",
      "183\n"
     ]
    }
   ],
   "source": [
    "print(type(output))\n",
    "print(output.fields)\n",
    "print(len(output['JetGood_pt']))\n",
    "print(len(output2['JetGood_pt']))\n",
    "print(len(output3['JetGood_pt']))"
   ]
  },
  {
   "cell_type": "code",
   "execution_count": 4,
   "id": "a274df05",
   "metadata": {},
   "outputs": [],
   "source": [
    "def deltaR(phis,etas):\n",
    "    leftPhi,rightPhi = ak.unzip(phis)\n",
    "    leftEta,rightEta = ak.unzip(etas)\n",
    "    return np.sqrt(pow(leftEta-rightEta,2)+pow(leftPhi-rightPhi,2))\n",
    "\n",
    "samples=(\"ttHTobb\",\n",
    "         \"ttHToNonbb\",\n",
    "         \"TTbbDiLeptonic_Powheg\",\n",
    "         \"TTbbSemiLeptonic_Powheg\",\n",
    "         \"TTbbHadronic_Powheg\",\n",
    "         \"THW\",\n",
    "         \"TTToSemiLeptonic\",\n",
    "         \"TTTo2L2Nu\",\n",
    "         \"TTToHadronic\",\n",
    "         \"TTZToQQ\",\n",
    "         \"TTZtoLLNuNu\",\n",
    "         \"TTWJetsToQQ\",\n",
    "         \"TTWJetsToLNu\",\n",
    "         \"TTGJets\",\n",
    "         \"WW\",\n",
    "         \"ZZ\",\n",
    "         \"WZ\",\n",
    "         \"WJetsToLNu_HT-200To400\",\n",
    "         \"WJetsToLNu_HT-400To600\",\n",
    "         \"WJetsToLNu_HT-600To800\",\n",
    "         \"WJetsToLNu_HT-800To1200\",\n",
    "         \"WJetsToLNu_HT-1200To2500\",\n",
    "         \"WJetsToLNu_HT-2500ToInf\",\n",
    "         \"WJetsToQQ_HT400to600_v7\",\n",
    "         \"WJetsToQQ_HT600to800_v7\",\n",
    "         \"WJetsToQQ_HT800toInf_v7\",\n",
    "         \"ZJetsToQQ_HT400to600_v7\",\n",
    "         \"ZJetsToQQ_HT600to800_v7\",\n",
    "         \"ZJetsToQQ_HT800toInf_v7\",\n",
    "         \"DYJetsToLL_M-50_v7\",\n",
    "         \"ST_s-channel_4f_leptonDecays_v7\",\n",
    "         \"ST_t-channel_top_4f_InclusiveDecays_v7\",\n",
    "         \"ST_t-channel_antitop_4f_InclusiveDecays_v7\",\n",
    "         \"ST_tW_top_5f_inclusiveDecays_v7\",\n",
    "         \"ST_tW_antitop_5f_inclusiveDecays_v7\",\n",
    "         \"QCD_HT500to700_v7\",\n",
    "         \"QCD_HT700to1000_v7\",\n",
    "         \"QCD_HT1000to1500_v7\",\n",
    "         \"QCD_HT1500to2000_v7\",\n",
    "         \"QCD_HT2000toInf_v7\"\n",
    "        )\n",
    "\n",
    "years = [\"2018\"]\n",
    "cats = [\"baseline\",\"ee\",\"emu\",\"mumu\"]\n",
    "variations = [\"nominal\"]\n",
    "filepath = \"/eos/user/r/rmccarth/ttHbb/chunks/\"\n",
    "#filepath=\"/eos/user/r/rmccarth/ttHbb/chunks/\"\n",
    "outputpath = \"/eos/user/r/rmccarth/ttHbb/mergedFiles/\""
   ]
  },
  {
   "cell_type": "code",
   "execution_count": 6,
   "id": "98898e34",
   "metadata": {
    "scrolled": false
   },
   "outputs": [],
   "source": [
    "for sample in [\"ZZ__2018\",\"WJetsToLNu_HT-200To400__2018\",\"WJetsToLNu_HT-2500ToInf__2018\",\"ST_tW_antitop_5f_inclusiveDecays_v7__2018\",\"QCD_HT1500to2000_v7__2018\",\"QCD_HT2000toInf_v7__2018\",\"TTToSemiLeptonic__2018\"]:\n",
    "    for cat in cats:\n",
    "        for variation in variations:\n",
    "            path = filepath+sample+\"/\"+cat+\"/\"+variation\n",
    "            outpath = outputpath+sample+\"/\"+cat+\"/\"+variation\n",
    "            if(os.path.isdir(outpath)):\n",
    "                continue\n",
    "            ak.to_parquet.dataset(path)\n",
    "            output = ak.from_parquet(path)\n",
    "\n",
    "            output['FatJetGood_tau21'] = np.divide(output['FatJetGood_tau2'],output['FatJetGood_tau1'])\n",
    "            output['FatJetGood_tau32'] = np.divide(output['FatJetGood_tau3'],output['FatJetGood_tau2'])\n",
    "            output['FatJetGood_tau31'] = np.divide(output['FatJetGood_tau3'],output['FatJetGood_tau1'])\n",
    "            output['FatJetGood_tau43'] = np.divide(output['FatJetGood_tau4'],output['FatJetGood_tau3'])\n",
    "                \n",
    "            output['BBFatJetGoodL_tau21'] = np.divide(output['BBFatJetGoodL_tau2'],output['BBFatJetGoodL_tau1'])\n",
    "            output['BBFatJetGoodL_tau32'] = np.divide(output['BBFatJetGoodL_tau3'],output['BBFatJetGoodL_tau2'])\n",
    "            output['BBFatJetGoodL_tau31'] = np.divide(output['BBFatJetGoodL_tau3'],output['BBFatJetGoodL_tau1'])\n",
    "            output['BBFatJetGoodL_tau43'] = np.divide(output['BBFatJetGoodL_tau4'],output['BBFatJetGoodL_tau3'])\n",
    "                \n",
    "            output['BBFatJetGoodM_tau21'] = np.divide(output['BBFatJetGoodM_tau2'],output['BBFatJetGoodM_tau1'])\n",
    "            output['BBFatJetGoodM_tau32'] = np.divide(output['BBFatJetGoodM_tau3'],output['BBFatJetGoodM_tau2'])\n",
    "            output['BBFatJetGoodM_tau31'] = np.divide(output['BBFatJetGoodM_tau3'],output['BBFatJetGoodM_tau1'])\n",
    "            output['BBFatJetGoodM_tau43'] = np.divide(output['BBFatJetGoodM_tau4'],output['BBFatJetGoodM_tau3'])\n",
    "\n",
    "            output['BBFatJetGoodT_tau21'] = np.divide(output['BBFatJetGoodT_tau2'],output['BBFatJetGoodT_tau1'])\n",
    "            output['BBFatJetGoodT_tau32'] = np.divide(output['BBFatJetGoodT_tau3'],output['BBFatJetGoodT_tau2'])\n",
    "            output['BBFatJetGoodT_tau31'] = np.divide(output['BBFatJetGoodT_tau3'],output['BBFatJetGoodT_tau1'])\n",
    "            output['BBFatJetGoodT_tau43'] = np.divide(output['BBFatJetGoodT_tau4'],output['BBFatJetGoodT_tau3'])\n",
    "\n",
    "            jetLeptonEta = ak.cartesian([output[\"LeptonGood_eta\"],output[\"JetGood_eta\"]],axis=1)\n",
    "            jetLeptonPhi = ak.cartesian([output[\"LeptonGood_phi\"],output[\"JetGood_phi\"]],axis=1)\n",
    "            jetFatJetEta = ak.cartesian([output[\"FatJetGood_eta\"],output[\"JetGood_eta\"]],axis=1)\n",
    "            jetFatJetPhi = ak.cartesian([output[\"FatJetGood_phi\"],output[\"JetGood_phi\"]],axis=1)\n",
    "            fatjetLeptonEta = ak.cartesian([output[\"LeptonGood_eta\"],output[\"FatJetGood_eta\"]],axis=1)\n",
    "            fatjetLeptonPhi = ak.cartesian([output[\"LeptonGood_phi\"],output[\"FatJetGood_phi\"]],axis=1)\n",
    "            leptonsPhi = ak.to_list(ak.combinations(output[\"LeptonGood_phi\"],2))\n",
    "            leptonsEta = ak.to_list(ak.combinations(output[\"LeptonGood_eta\"],2))\n",
    "            jetPhi = ak.to_list(ak.combinations(output[\"JetGood_phi\"],2))\n",
    "            jetEta = ak.to_list(ak.combinations(output[\"JetGood_eta\"],2))\n",
    "\n",
    "            if(len(leptonsPhi)!=0 and len(leptonsEta)!=0):\n",
    "                leptonsDeltaR = deltaR(leptonsPhi,leptonsEta)\n",
    "            else:\n",
    "                leptonsDeltaR = []\n",
    "            output['LeptonGoodCombinations_deltaR'] = leptonsDeltaR\n",
    "\n",
    "            if(len(jetPhi)!=0 and len(jetEta)!=0):\n",
    "                jetDeltaR = deltaR(jetPhi,jetEta)\n",
    "            else:\n",
    "                jetDeltaR = []\n",
    "            output['JetGoodCombinations_deltaR'] = jetDeltaR\n",
    "\n",
    "            if(len(leptonsPhi)!=0 and len(leptonsEta)!=0 and len(jetPhi)!=0 and len(jetEta)!=0):\n",
    "                jetLeptonDeltaR = deltaR(jetLeptonPhi,jetLeptonEta)\n",
    "            else:\n",
    "                jetLeptonDeltaR = []\n",
    "            output['JetLeptonGoodCombinations_deltaR'] = jetLeptonDeltaR\n",
    "\n",
    "            if(len(fatjetLeptonPhi)!=0 and len(fatjetLeptonEta)!=0):\n",
    "                fatjetLeptonDeltaR = deltaR(fatjetLeptonPhi,fatjetLeptonEta)\n",
    "            else:\n",
    "                fatjetLeptonDeltaR = []\n",
    "            output['FatJetLeptonGoodCombinations_deltaR'] = fatjetLeptonDeltaR\n",
    "\n",
    "            if(len(jetFatJetPhi)!=0 and len(jetFatJetEta)!= 0):\n",
    "                jetFatJetDeltaR = deltaR(jetFatJetPhi,jetFatJetEta)\n",
    "            else:\n",
    "                jetFatJetDeltaR = []\n",
    "            output['JetFatJetGoodCombinations_deltaR'] = jetFatJetDeltaR\n",
    "            os.makedirs(outpath)\n",
    "            ak.to_parquet(output,f\"{outpath}/merge.parquet\")"
   ]
  },
  {
   "cell_type": "code",
   "execution_count": 8,
   "id": "6e1a120e",
   "metadata": {},
   "outputs": [
    {
     "data": {
      "text/plain": [
       "False"
      ]
     },
     "execution_count": 8,
     "metadata": {},
     "output_type": "execute_result"
    }
   ],
   "source": [
    "os.path.isdir(\"/eos/user/r/rmccarth/ttHbb/mergedFiles/DATA_EGamma_2018_EraA/baseline/nominalergw\")"
   ]
  },
  {
   "cell_type": "code",
   "execution_count": null,
   "id": "ed8aaa05",
   "metadata": {},
   "outputs": [],
   "source": []
  },
  {
   "cell_type": "code",
   "execution_count": null,
   "id": "75c05723",
   "metadata": {},
   "outputs": [],
   "source": []
  }
 ],
 "metadata": {
  "kernelspec": {
   "display_name": "myenv",
   "language": "python",
   "name": "myenv"
  },
  "language_info": {
   "codemirror_mode": {
    "name": "ipython",
    "version": 3
   },
   "file_extension": ".py",
   "mimetype": "text/x-python",
   "name": "python",
   "nbconvert_exporter": "python",
   "pygments_lexer": "ipython3",
   "version": "3.8.10"
  }
 },
 "nbformat": 4,
 "nbformat_minor": 5
}
