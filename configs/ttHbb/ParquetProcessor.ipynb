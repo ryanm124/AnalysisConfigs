{
 "cells": [
  {
   "cell_type": "code",
   "execution_count": 141,
   "id": "66ddd7ea",
   "metadata": {},
   "outputs": [],
   "source": [
    "import matplotlib.pyplot as plt\n",
    "from coffea.util import load\n",
    "from pocket_coffea.utils.plot_utils import Shape\n",
    "from IPython.display import display, HTML\n",
    "import pickle\n",
    "import numpy as np\n",
    "import os\n",
    "import awkward as ak\n",
    "from omegaconf import OmegaConf\n",
    "import math\n",
    "import pyarrow as pa"
   ]
  },
  {
   "cell_type": "code",
   "execution_count": 53,
   "id": "0e886291",
   "metadata": {},
   "outputs": [],
   "source": [
    "output = ak.from_parquet(\"/eos/user/r/rmccarth/ttHbb/chunks/TTToSemiLeptonic__2018/baseline/nominal/fcd64a3c-f13f-11eb-96b7-79bce183beef_#2FEvents#3B1_0-49616.parquet\")\n",
    "output2 = ak.from_parquet(\"/eos/user/r/rmccarth/ttHbb/chunks/TTToSemiLeptonic__2018/baseline/nominal/fcd64a3c-f13f-11eb-96b7-79bce183beef_#2FEvents#3B1_49616-99232.parquet\")\n",
    "output3 = ak.from_parquet(\"merge.parquet\")"
   ]
  },
  {
   "cell_type": "code",
   "execution_count": 54,
   "id": "597462e3",
   "metadata": {},
   "outputs": [
    {
     "name": "stdout",
     "output_type": "stream",
     "text": [
      "<class 'awkward.highlevel.Array'>\n",
      "['weight_nominal', 'weight_pileupUp', 'weight_pileupDown', 'weight_sf_ele_recoUp', 'weight_sf_ele_recoDown', 'weight_sf_ele_idUp', 'weight_sf_ele_idDown', 'weight_sf_mu_idUp', 'weight_sf_mu_idDown', 'weight_sf_mu_isoUp', 'weight_sf_mu_isoDown', 'weight_sf_jet_puIdUp', 'weight_sf_jet_puIdDown', 'weight_sf_btag_hfUp', 'weight_sf_btag_hfDown', 'weight_sf_btag_lfUp', 'weight_sf_btag_lfDown', 'weight_sf_btag_hfstats1Up', 'weight_sf_btag_hfstats1Down', 'weight_sf_btag_hfstats2Up', 'weight_sf_btag_hfstats2Down', 'weight_sf_btag_lfstats1Up', 'weight_sf_btag_lfstats1Down', 'weight_sf_btag_lfstats2Up', 'weight_sf_btag_lfstats2Down', 'weight_sf_btag_cferr1Up', 'weight_sf_btag_cferr1Down', 'weight_sf_btag_cferr2Up', 'weight_sf_btag_cferr2Down', 'JetGood_eta', 'JetGood_pt', 'JetGood_phi', 'JetGood_btagDeepFlavB', 'JetGood_genJetIdx', 'FatJetGood_eta', 'FatJetGood_pt', 'FatJetGood_phi', 'FatJetGood_mass', 'FatJetGood_msoftdrop', 'FatJetGood_tau1', 'FatJetGood_tau2', 'FatJetGood_tau3', 'FatJetGood_tau4', 'FatJetGood_btagDDBvLV2', 'FatJetGood_deepTagMD_ZHbbvsQCD', 'FatJetGood_deepTagMD_ZHccvsQCD', 'FatJetGood_deepTagMD_HbbvsQCD', 'FatJetGood_deepTagMD_bbvsLight', 'FatJetGood_btagHbb', 'FatJetGood_genJetAK8Idx', 'FatJetGood_rhoQCD', 'LeptonGood_eta', 'LeptonGood_pt', 'LeptonGood_phi', 'LeptonGood_pdgId', 'MuonGood_eta', 'MuonGood_pt', 'MuonGood_phi', 'MuonGood_jetRelIso', 'MuonGood_pfRelIso03_all', 'MuonGood_miniPFRelIso_all', 'MuonGood_pfRelIso03_chg', 'MuonGood_miniPFRelIso_chg', 'MuonGood_mvaTTH', 'ElectronGood_eta', 'ElectronGood_pt', 'ElectronGood_phi', 'ElectronGood_jetRelIso', 'ElectronGood_pfRelIso03_all', 'ElectronGood_miniPFRelIso_all', 'ElectronGood_pfRelIso03_chg', 'ElectronGood_miniPFRelIso_chg', 'ElectronGood_mvaTTH', 'BJetGood_eta', 'BJetGood_pt', 'BJetGood_phi', 'BJetGood_btagDeepFlavB', 'BBFatJetGoodT_eta', 'BBFatJetGoodT_pt', 'BBFatJetGoodT_phi', 'BBFatJetGoodT_mass', 'BBFatJetGoodT_msoftdrop', 'BBFatJetGoodT_tau1', 'BBFatJetGoodT_tau2', 'BBFatJetGoodT_tau3', 'BBFatJetGoodT_tau4', 'BBFatJetGoodT_btagDDBvLV2', 'BBFatJetGoodT_deepTagMD_ZHbbvsQCD', 'BBFatJetGoodT_deepTagMD_ZHccvsQCD', 'BBFatJetGoodT_deepTagMD_HbbvsQCD', 'BBFatJetGoodT_deepTagMD_bbvsLight', 'BBFatJetGoodT_btagHbb', 'BBFatJetGoodT_rhoQCD', 'BBFatJetGoodM_eta', 'BBFatJetGoodM_pt', 'BBFatJetGoodM_phi', 'BBFatJetGoodM_mass', 'BBFatJetGoodM_msoftdrop', 'BBFatJetGoodM_tau1', 'BBFatJetGoodM_tau2', 'BBFatJetGoodM_tau3', 'BBFatJetGoodM_tau4', 'BBFatJetGoodM_btagDDBvLV2', 'BBFatJetGoodM_deepTagMD_ZHbbvsQCD', 'BBFatJetGoodM_deepTagMD_ZHccvsQCD', 'BBFatJetGoodM_deepTagMD_HbbvsQCD', 'BBFatJetGoodM_deepTagMD_bbvsLight', 'BBFatJetGoodM_btagHbb', 'BBFatJetGoodM_rhoQCD', 'BBFatJetGoodL_eta', 'BBFatJetGoodL_pt', 'BBFatJetGoodL_phi', 'BBFatJetGoodL_mass', 'BBFatJetGoodL_msoftdrop', 'BBFatJetGoodL_tau1', 'BBFatJetGoodL_tau2', 'BBFatJetGoodL_tau3', 'BBFatJetGoodL_tau4', 'BBFatJetGoodL_btagDDBvLV2', 'BBFatJetGoodL_deepTagMD_ZHbbvsQCD', 'BBFatJetGoodL_deepTagMD_ZHccvsQCD', 'BBFatJetGoodL_deepTagMD_HbbvsQCD', 'BBFatJetGoodL_deepTagMD_bbvsLight', 'BBFatJetGoodL_btagHbb', 'BBFatJetGoodL_rhoQCD', 'GenJet_eta', 'GenJet_hadronFlavour', 'GenJet_mass', 'GenJet_partonFlavour', 'GenJet_phi', 'GenJet_pt', 'GenFatJet_eta', 'GenFatJet_hadronFlavour', 'GenFatJet_mass', 'GenFatJet_partonFlavour', 'GenFatJet_phi', 'GenFatJet_pt', 'events_genTtbarId']\n",
      "94\n",
      "89\n",
      "183\n"
     ]
    }
   ],
   "source": [
    "print(type(output))\n",
    "print(output.fields)\n",
    "print(len(output['JetGood_pt']))\n",
    "print(len(output2['JetGood_pt']))\n",
    "print(len(output3['JetGood_pt']))"
   ]
  },
  {
   "cell_type": "code",
   "execution_count": 142,
   "id": "a274df05",
   "metadata": {},
   "outputs": [],
   "source": [
    "samples=(\"ttHTobb\",\n",
    "         \"ttHToNonbb\",\n",
    "         \"TTbbDiLeptonic_Powheg\",\n",
    "         \"TTbbSemiLeptonic_Powheg\",\n",
    "         \"TTbbHadronic_Powheg\",\n",
    "         \"THW\",\n",
    "         \"TTToSemiLeptonic\",\n",
    "         \"TTTo2L2Nu\",\n",
    "         \"TTToHadronic\",\n",
    "         \"TTZToQQ\",\n",
    "         \"TTZtoLLNuNu\",\n",
    "         \"TTWJetsToQQ\",\n",
    "         \"TTWJetsToLNu\",\n",
    "         \"TTGJets\",\n",
    "         \"WW\",\n",
    "         \"ZZ\",\n",
    "         \"WZ\",\n",
    "         \"WJetsToLNu_HT-200To400\",\n",
    "         \"WJetsToLNu_HT-400To600\",\n",
    "         \"WJetsToLNu_HT-600To800\",\n",
    "         \"WJetsToLNu_HT-800To1200\",\n",
    "         \"WJetsToLNu_HT-1200To2500\",\n",
    "         \"WJetsToLNu_HT-2500ToInf\",\n",
    "         \"WJetsToQQ_HT400to600_v7\",\n",
    "         \"WJetsToQQ_HT600to800_v7\",\n",
    "         \"WJetsToQQ_HT800toInf_v7\",\n",
    "         \"ZJetsToQQ_HT400to600_v7\",\n",
    "         \"ZJetsToQQ_HT600to800_v7\",\n",
    "         \"ZJetsToQQ_HT800toInf_v7\",\n",
    "         \"DYJetsToLL_M-50_v7\",\n",
    "         \"ST_s-channel_4f_leptonDecays_v7\",\n",
    "         \"ST_t-channel_top_4f_InclusiveDecays_v7\",\n",
    "         \"ST_t-channel_antitop_4f_InclusiveDecays_v7\",\n",
    "         \"ST_tW_top_5f_inclusiveDecays_v7\",\n",
    "         \"ST_tW_antitop_5f_inclusiveDecays_v7\",\n",
    "         \"QCD_HT500to700_v7\",\n",
    "         \"QCD_HT700to1000_v7\",\n",
    "         \"QCD_HT1000to1500_v7\",\n",
    "         \"QCD_HT1500to2000_v7\",\n",
    "         \"QCD_HT2000toInf_v7\"\n",
    "        )\n",
    "\n",
    "years = [\"2018\"]\n",
    "cats = [\"baseline\"]\n",
    "variations = [\"nominal\"]\n",
    "filepath = \"/eos/user/r/rmccarth/ttHbb/chunks/\""
   ]
  },
  {
   "cell_type": "code",
   "execution_count": 224,
   "id": "98898e34",
   "metadata": {},
   "outputs": [
    {
     "name": "stdout",
     "output_type": "stream",
     "text": [
      "weight_nominal double\n"
     ]
    },
    {
     "ename": "AttributeError",
     "evalue": "no field named 'schema'\n\n(https://github.com/scikit-hep/awkward-1.0/blob/1.10.3/src/awkward/highlevel.py#L1124)",
     "output_type": "error",
     "traceback": [
      "\u001b[0;31m---------------------------------------------------------------------------\u001b[0m",
      "\u001b[0;31mAttributeError\u001b[0m                            Traceback (most recent call last)",
      "Input \u001b[0;32mIn [224]\u001b[0m, in \u001b[0;36m<cell line: 2>\u001b[0;34m()\u001b[0m\n\u001b[1;32m      9\u001b[0m                 \u001b[38;5;28;01mfor\u001b[39;00m field \u001b[38;5;129;01min\u001b[39;00m output\u001b[38;5;241m.\u001b[39mfields:\n\u001b[1;32m     10\u001b[0m                     \u001b[38;5;28mprint\u001b[39m(field,ak\u001b[38;5;241m.\u001b[39mto_arrow(output[field])\u001b[38;5;241m.\u001b[39mtype)\n\u001b[0;32m---> 11\u001b[0m                     \u001b[38;5;28mprint\u001b[39m(\u001b[43moutput\u001b[49m\u001b[38;5;241;43m.\u001b[39;49m\u001b[43mschema\u001b[49m)\n\u001b[1;32m     12\u001b[0m                 \u001b[38;5;28mzip\u001b[39m[\u001b[38;5;124mf\u001b[39m\u001b[38;5;124m'\u001b[39m\u001b[38;5;132;01m{\u001b[39;00msample\u001b[38;5;132;01m}\u001b[39;00m\u001b[38;5;124m_\u001b[39m\u001b[38;5;132;01m{\u001b[39;00myear\u001b[38;5;132;01m}\u001b[39;00m\u001b[38;5;124m_\u001b[39m\u001b[38;5;132;01m{\u001b[39;00mcat\u001b[38;5;132;01m}\u001b[39;00m\u001b[38;5;124m_\u001b[39m\u001b[38;5;132;01m{\u001b[39;00mvariation\u001b[38;5;132;01m}\u001b[39;00m\u001b[38;5;124m'\u001b[39m] \u001b[38;5;241m=\u001b[39m output\n\u001b[1;32m     13\u001b[0m record \u001b[38;5;241m=\u001b[39m ak\u001b[38;5;241m.\u001b[39mRecord(\u001b[38;5;28mzip\u001b[39m)\n",
      "File \u001b[0;32m/usr/local/lib/python3.8/site-packages/awkward/highlevel.py:1123\u001b[0m, in \u001b[0;36mArray.__getattr__\u001b[0;34m(self, where)\u001b[0m\n\u001b[1;32m   1117\u001b[0m         \u001b[38;5;28;01mraise\u001b[39;00m \u001b[38;5;167;01mAttributeError\u001b[39;00m(\n\u001b[1;32m   1118\u001b[0m             \u001b[38;5;124m\"\u001b[39m\u001b[38;5;124mwhile trying to get field \u001b[39m\u001b[38;5;132;01m{}\u001b[39;00m\u001b[38;5;124m, an exception \u001b[39m\u001b[38;5;124m\"\u001b[39m\n\u001b[1;32m   1119\u001b[0m             \u001b[38;5;124m\"\u001b[39m\u001b[38;5;124moccurred:\u001b[39m\u001b[38;5;130;01m\\n\u001b[39;00m\u001b[38;5;132;01m{}\u001b[39;00m\u001b[38;5;124m: \u001b[39m\u001b[38;5;132;01m{}\u001b[39;00m\u001b[38;5;124m\"\u001b[39m\u001b[38;5;241m.\u001b[39mformat(\u001b[38;5;28mrepr\u001b[39m(where), \u001b[38;5;28mtype\u001b[39m(err), \u001b[38;5;28mstr\u001b[39m(err))\n\u001b[1;32m   1120\u001b[0m             \u001b[38;5;241m+\u001b[39m ak\u001b[38;5;241m.\u001b[39m_util\u001b[38;5;241m.\u001b[39mexception_suffix(\u001b[38;5;18m__file__\u001b[39m)\n\u001b[1;32m   1121\u001b[0m         ) \u001b[38;5;28;01mfrom\u001b[39;00m \u001b[38;5;21;01merr\u001b[39;00m\n\u001b[1;32m   1122\u001b[0m \u001b[38;5;28;01melse\u001b[39;00m:\n\u001b[0;32m-> 1123\u001b[0m     \u001b[38;5;28;01mraise\u001b[39;00m \u001b[38;5;167;01mAttributeError\u001b[39;00m(\n\u001b[1;32m   1124\u001b[0m         \u001b[38;5;124mf\u001b[39m\u001b[38;5;124m\"\u001b[39m\u001b[38;5;124mno field named \u001b[39m\u001b[38;5;132;01m{\u001b[39;00mwhere\u001b[38;5;132;01m!r}\u001b[39;00m\u001b[38;5;124m\"\u001b[39m \u001b[38;5;241m+\u001b[39m ak\u001b[38;5;241m.\u001b[39m_util\u001b[38;5;241m.\u001b[39mexception_suffix(\u001b[38;5;18m__file__\u001b[39m)\n\u001b[1;32m   1125\u001b[0m     )\n",
      "\u001b[0;31mAttributeError\u001b[0m: no field named 'schema'\n\n(https://github.com/scikit-hep/awkward-1.0/blob/1.10.3/src/awkward/highlevel.py#L1124)"
     ]
    }
   ],
   "source": [
    "zip = {}\n",
    "for sample in [\"TTToSemiLeptonic\",\"TTToHadronic\"]:\n",
    "    for year in years:\n",
    "        for cat in cats:\n",
    "            for variation in variations:\n",
    "                path = filepath+sample+\"__\"+year+\"/\"+cat+\"/\"+variation\n",
    "                ak.to_parquet.dataset(path)\n",
    "                output = ak.from_parquet(path)\n",
    "                for field in output.fields:\n",
    "                    print(field,ak.to_arrow(output[field]).type)\n",
    "                zip[f'{sample}_{year}_{cat}_{variation}'] = output\n",
    "record = ak.Record(zip)\n",
    "single = ak.Array(record.layout.array[record.layout.at : record.layout.at + 1])\n",
    "ak.to_parquet(single, \"output.parquet\")"
   ]
  },
  {
   "cell_type": "code",
   "execution_count": null,
   "id": "6e1a120e",
   "metadata": {},
   "outputs": [],
   "source": []
  },
  {
   "cell_type": "code",
   "execution_count": null,
   "id": "ed8aaa05",
   "metadata": {},
   "outputs": [],
   "source": []
  },
  {
   "cell_type": "code",
   "execution_count": null,
   "id": "75c05723",
   "metadata": {},
   "outputs": [],
   "source": []
  }
 ],
 "metadata": {
  "kernelspec": {
   "display_name": "myenv",
   "language": "python",
   "name": "myenv"
  },
  "language_info": {
   "codemirror_mode": {
    "name": "ipython",
    "version": 3
   },
   "file_extension": ".py",
   "mimetype": "text/x-python",
   "name": "python",
   "nbconvert_exporter": "python",
   "pygments_lexer": "ipython3",
   "version": "3.8.10"
  }
 },
 "nbformat": 4,
 "nbformat_minor": 5
}
